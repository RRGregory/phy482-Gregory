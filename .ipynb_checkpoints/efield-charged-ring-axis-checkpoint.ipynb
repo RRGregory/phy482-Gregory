{
 "cells": [
  {
   "cell_type": "markdown",
   "metadata": {},
   "source": [
    "# Computing Electric Field Along the Axis of a Charged Ring With a Computer"
   ]
  },
  {
   "cell_type": "markdown",
   "metadata": {},
   "source": [
    "This program computes the net electric field due to a uniformly charged ring of radius $R$ and charge $Q$ at a given point in space."
   ]
  },
  {
   "cell_type": "code",
   "execution_count": 1,
   "metadata": {
    "collapsed": false
   },
   "outputs": [
    {
     "data": {
      "application/javascript": [
       "require.undef(\"nbextensions/vpython_libraries/glow.min\");"
      ],
      "text/plain": [
       "<IPython.core.display.Javascript object>"
      ]
     },
     "metadata": {},
     "output_type": "display_data"
    },
    {
     "data": {
      "application/javascript": [
       "require.undef(\"nbextensions/vpython_libraries/glowcomm\");"
      ],
      "text/plain": [
       "<IPython.core.display.Javascript object>"
      ]
     },
     "metadata": {},
     "output_type": "display_data"
    },
    {
     "data": {
      "application/javascript": [
       "require.undef(\"nbextensions/vpython_libraries/jquery-ui.custom.min\");"
      ],
      "text/plain": [
       "<IPython.core.display.Javascript object>"
      ]
     },
     "metadata": {},
     "output_type": "display_data"
    },
    {
     "data": {
      "application/javascript": [
       "require([\"nbextensions/vpython_libraries/glow.min\"], function(){console.log(\"GLOW LOADED\");})"
      ],
      "text/plain": [
       "<IPython.core.display.Javascript object>"
      ]
     },
     "metadata": {},
     "output_type": "display_data"
    },
    {
     "data": {
      "application/javascript": [
       "require([\"nbextensions/vpython_libraries/glowcomm\"], function(){console.log(\"GLOWCOMM LOADED\");})"
      ],
      "text/plain": [
       "<IPython.core.display.Javascript object>"
      ]
     },
     "metadata": {},
     "output_type": "display_data"
    },
    {
     "data": {
      "application/javascript": [
       "require([\"nbextensions/vpython_libraries/jquery-ui.custom.min\"], function(){console.log(\"JQUERY LOADED\");})"
      ],
      "text/plain": [
       "<IPython.core.display.Javascript object>"
      ]
     },
     "metadata": {},
     "output_type": "display_data"
    },
    {
     "data": {
      "text/html": [
       "<div id=\"glowscript\" class=\"glowscript\"></div>"
      ],
      "text/plain": [
       "<IPython.core.display.HTML object>"
      ]
     },
     "metadata": {},
     "output_type": "display_data"
    },
    {
     "data": {
      "application/javascript": [
       "window.__context = { glowscript_container: $(\"#glowscript\").removeAttr(\"id\")}"
      ],
      "text/plain": [
       "<IPython.core.display.Javascript object>"
      ]
     },
     "metadata": {},
     "output_type": "display_data"
    }
   ],
   "source": [
    "from __future__ import division, print_function\n",
    "from vpython import *\n",
    "from math import *"
   ]
  },
  {
   "cell_type": "code",
   "execution_count": 21,
   "metadata": {
    "collapsed": false
   },
   "outputs": [
    {
     "data": {
      "text/html": [
       "<div id=\"glowscript\" class=\"glowscript\"></div>"
      ],
      "text/plain": [
       "<IPython.core.display.HTML object>"
      ]
     },
     "metadata": {},
     "output_type": "display_data"
    },
    {
     "data": {
      "application/javascript": [
       "window.__context = { glowscript_container: $(\"#glowscript\").removeAttr(\"id\")}"
      ],
      "text/plain": [
       "<IPython.core.display.Javascript object>"
      ]
     },
     "metadata": {},
     "output_type": "display_data"
    },
    {
     "name": "stdout",
     "output_type": "stream",
     "text": [
      "The net electric field =  <0.000000, -0.000000, 7954.951288> N/C\n"
     ]
    }
   ],
   "source": [
    "scene=canvas(title=\"Electric field due to uniformly charged ring\")\n",
    "scene.background=color.white\n",
    "\n",
    "R=0.02 #radius of ring in m\n",
    "Q=1e-9 #charge of ring in C\n",
    "N=4 #number of unique pieces\n",
    "\n",
    "#draw the objects\n",
    "myring=ring(pos=vector(0,0,0), radius=R, axis=vector(0,0,1), color=color.blue, thickness=0.02*R)\n",
    "zaxis=cylinder(pos=-2*R*myring.axis, radius=0.015*R, axis=4*R*myring.axis, color=color.black)\n",
    "point=sphere(pos=R*myring.axis, color=color.red, radius=5*zaxis.radius)\n",
    "\n",
    "oofpez=9e9 #1/(4pi epsilon_0) in N m^2/C^2\n",
    "dq=Q/N #charge of a piece\n",
    "dtheta=2*pi/N #theta increment for our loop\n",
    "theta=dtheta/2 #initial theta for first piece of loop\n",
    "Enet=vector(0,0,0) #net electric field of all pieces\n",
    "\n",
    "rpoint=point.pos #location of the point in space to calculate E field\n",
    "\n",
    "scale=1.2*mag(rpoint)/8000 #used to scale the arrows representing E-field\n",
    "\n",
    "while theta<2*pi:\n",
    "    rpiece=R*vector(cos(theta),sin(theta),0) #location of piece\n",
    "    r=rpoint-rpiece #vector from piece to point in space\n",
    "    rmag=mag(r) #magnitude of r\n",
    "    rhat=norm(r) #unit vector for r\n",
    "    dE=oofpez*dq/rmag/rmag*rhat #Electric field due to piece at rpoint\n",
    "    Enet=Enet+dE #net electric field of the first one up to this one\n",
    "    particle=sphere(pos=rpiece, radius=point.radius, color=color.yellow) #draw a particle at center of piece\n",
    "    dEvector=arrow(pos=rpoint, axis=scale*dE, color=color.magenta, shaftwidth=point.radius/2)\n",
    "    theta=theta+dtheta\n",
    "\n",
    "print(\"The net electric field = \",Enet, \"N/C\")\n",
    "Evector=arrow(pos=rpoint, axis=scale*Enet, color=color.orange, shaftwidth=point.radius/2)\n"
   ]
  },
  {
   "cell_type": "markdown",
   "metadata": {
    "collapsed": true
   },
   "source": [
    "Part 1"
   ]
  },
  {
   "cell_type": "code",
   "execution_count": 10,
   "metadata": {
    "collapsed": false
   },
   "outputs": [
    {
     "data": {
      "text/html": [
       "<div id=\"glowscript\" class=\"glowscript\"></div>"
      ],
      "text/plain": [
       "<IPython.core.display.HTML object>"
      ]
     },
     "metadata": {},
     "output_type": "display_data"
    },
    {
     "data": {
      "application/javascript": [
       "window.__context = { glowscript_container: $(\"#glowscript\").removeAttr(\"id\")}"
      ],
      "text/plain": [
       "<IPython.core.display.Javascript object>"
      ]
     },
     "metadata": {},
     "output_type": "display_data"
    },
    {
     "name": "stdout",
     "output_type": "stream",
     "text": [
      "<0.000000, 0.000000, 0.000000> <-0.001520, -0.003689, 0.000000> <0.000000, 0.011735, 0.000000> <0.001780, 0.000818, 0.000000> <0.047996, -0.021267, 0.000000>\n"
     ]
    }
   ],
   "source": [
    "scene=canvas(title=\"Electric field due to uniformly charged ring\")\n",
    "scene.background=color.white\n",
    "\n",
    "R=0.02 #radius of ring in m\n",
    "Q=1e-9 #charge of ring in C\n",
    "N=4 #number of unique pieces\n",
    "\n",
    "#draw the objects\n",
    "myring=ring(pos=vector(0,0,0), radius=R, axis=vector(0,0,1), color=color.blue, thickness=0.02*R)\n",
    "zaxis=cylinder(pos=-2*R*myring.axis, radius=0.015*R, axis=4*R*myring.axis, color=color.black)\n",
    "\n",
    "point0=sphere(pos=vector(0,0,0), color=color.green, radius=5*zaxis.radius)\n",
    "point1 = sphere(pos=vector(0.01,0.001,0), color=color.green, radius=5*zaxis.radius)\n",
    "point2 = sphere(pos=vector(0,0.015,0), color=color.green, radius=5*zaxis.radius)\n",
    "point3 = sphere(pos=vector(-0.005,-0.001,0), color=color.green, radius=5*zaxis.radius)\n",
    "point4 = sphere(pos=vector(-0.005,-0.0157,0), color=color.green, radius=5*zaxis.radius)\n",
    "\n",
    "oofpez=9e9 #1/(4pi epsilon_0) in N m^2/C^2\n",
    "dq=Q/N #charge of a piece\n",
    "dtheta=2*pi/N #theta increment for our loop\n",
    "theta=dtheta/2 #initial theta for first piece of loop\n",
    "\n",
    "Enet0=vector(0,0,0) #net electric field of all pieces\n",
    "Enet1=vector(0,0,0)\n",
    "Enet2=vector(0,0,0)\n",
    "Enet3=vector(0,0,0)\n",
    "Enet4=vector(0,0,0)\n",
    "\n",
    "#location of the point in space to calculate E field\n",
    "rpoint0=point0.pos\n",
    "rpoint1=point1.pos\n",
    "rpoint2=point2.pos\n",
    "rpoint3=point3.pos\n",
    "rpoint4=point4.pos\n",
    "\n",
    "#used to scale the arrows representing E-field\n",
    "scale0= 1.2*mag(rpoint0)/8000\n",
    "scale1 = 1.2*mag(rpoint1)/8000\n",
    "scale2 = 1.2*mag(rpoint2)/8000\n",
    "scale3 = 1.2*mag(rpoint3)/8000\n",
    "scale4 = 1.2*mag(rpoint4)/8000\n",
    "\n",
    "\n",
    "while theta<2*pi:\n",
    "    rpiece=R*vector(cos(theta),sin(theta),0) #location of piece\n",
    "    \n",
    "#vector from piece to point in space\n",
    "    r0=rpoint0-rpiece\n",
    "    r1=rpoint1-rpiece\n",
    "    r2=rpoint2-rpiece\n",
    "    r3=rpoint3-rpiece\n",
    "    r4=rpoint4-rpiece\n",
    "    \n",
    "#magnitude of r\n",
    "    r0mag=mag(r0)\n",
    "    r1mag=mag(r1)\n",
    "    r2mag=mag(r2)\n",
    "    r3mag=mag(r3)\n",
    "    r4mag=mag(r4)\n",
    "    \n",
    "#unit vector for r\n",
    "    r0hat=norm(r0)\n",
    "    r1hat=norm(r1)\n",
    "    r2hat=norm(r2)\n",
    "    r3hat=norm(r3)\n",
    "    r4hat=norm(r4)\n",
    "    \n",
    "#Electric field due to piece at rpoint\n",
    "    dE0=oofpez*dq/r0mag/r0mag*r0hat\n",
    "    dE1=oofpez*dq/r1mag/r1mag*r1hat\n",
    "    dE2=oofpez*dq/r2mag/r2mag*r2hat\n",
    "    dE3=oofpez*dq/r3mag/r3mag*r3hat\n",
    "    dE4=oofpez*dq/r4mag/r4mag*r4hat\n",
    "    \n",
    "    Enet0=Enet0+dE0 #net electric field of the first one up to this one\n",
    "    Enet1=Enet1+dE1\n",
    "    Enet2=Enet2+dE2\n",
    "    Enet3=Enet3+dE3\n",
    "    Enet4=Enet4+dE4\n",
    "    \n",
    "    particle=sphere(pos=rpiece, radius=point0.radius, color=color.yellow) #draw a particle at center of piece\n",
    "    \n",
    "    dEvector0=arrow(pos=rpoint0, axis=scale1*dE0, color=color.magenta, shaftwidth=point0.radius/2)\n",
    "    dEvector1=arrow(pos=rpoint1, axis=scale1*dE1, color=color.cyan, shaftwidth=point1.radius/2)\n",
    "    dEvector2=arrow(pos=rpoint2, axis=scale2*dE2, color=color.cyan, shaftwidth=point2.radius/2)\n",
    "    dEvector3=arrow(pos=rpoint3, axis=scale3*dE3, color=color.cyan, shaftwidth=point3.radius/2)\n",
    "    dEvector4=arrow(pos=rpoint4, axis=scale4*dE4, color=color.cyan, shaftwidth=point4.radius/2)\n",
    "    \n",
    "    theta=theta+dtheta\n",
    "\n",
    "#print(\"The net electric field = \",Enet, \"N/C\")\n",
    "\n",
    "Evector0=arrow(pos=rpoint0, axis=scale0*Enet0, color=color.orange, shaftwidth=point0.radius/2)\n",
    "Evector1=arrow(pos=rpoint1, axis=scale1*Enet1, color=color.orange, shaftwidth=point1.radius/2)\n",
    "Evector2=arrow(pos=rpoint2, axis=scale2*Enet2, color=color.orange, shaftwidth=point2.radius/2)\n",
    "Evector3=arrow(pos=rpoint3, axis=scale3*Enet3, color=color.orange, shaftwidth=point3.radius/2)\n",
    "Evector4=arrow(pos=rpoint4, axis=scale4*Enet4, color=color.orange, shaftwidth=point4.radius/2)"
   ]
  },
  {
   "cell_type": "code",
   "execution_count": null,
   "metadata": {
    "collapsed": true
   },
   "outputs": [],
   "source": []
  }
 ],
 "metadata": {
  "anaconda-cloud": {},
  "kernelspec": {
   "display_name": "VPython",
   "language": "python",
   "name": "vpython"
  },
  "language_info": {
   "codemirror_mode": {
    "name": "ipython",
    "version": 3
   },
   "file_extension": ".py",
   "mimetype": "text/x-python",
   "name": "python",
   "nbconvert_exporter": "python",
   "pygments_lexer": "ipython3",
   "version": "3.5.2"
  }
 },
 "nbformat": 4,
 "nbformat_minor": 0
}
